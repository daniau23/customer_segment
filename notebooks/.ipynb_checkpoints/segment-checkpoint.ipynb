{
 "cells": [
  {
   "cell_type": "code",
   "execution_count": 36,
   "metadata": {},
   "outputs": [],
   "source": [
    "import pandas as pd\n",
    "import numpy as np \n",
    "import matplotlib.pyplot as plt\n",
    "import plotly.express as px\n",
    "import plotly.graph_objects as go\n",
    "import plotly.figure_factory as ff\n",
    "import seaborn as sns\n",
    "import warnings\n",
    "warnings.filterwarnings(\"ignore\")"
   ]
  },
  {
   "cell_type": "markdown",
   "metadata": {},
   "source": [
    "### **Customer Segmentation**"
   ]
  },
  {
   "cell_type": "markdown",
   "metadata": {},
   "source": [
    "This project aims at the segmentation of customers into different groups using unsupervised learning algorithms. These algorithms include the following;\n",
    "- Kmeans\n",
    "- DBSCAN\n",
    "- Agglomerative Clustering/Hierarchical clustering\n",
    "\n",
    "For this approach, the Agglomerative clustering would be used instead of the others."
   ]
  },
  {
   "cell_type": "code",
   "execution_count": 37,
   "metadata": {},
   "outputs": [],
   "source": [
    "data = pd.read_csv(\"../data/segmentation_data.csv\")"
   ]
  },
  {
   "cell_type": "markdown",
   "metadata": {},
   "source": [
    "Kindly refer to the segementation data legend for the interpretation of the numeric values."
   ]
  },
  {
   "cell_type": "code",
   "execution_count": 38,
   "metadata": {},
   "outputs": [
    {
     "data": {
      "text/html": [
       "<div>\n",
       "<style scoped>\n",
       "    .dataframe tbody tr th:only-of-type {\n",
       "        vertical-align: middle;\n",
       "    }\n",
       "\n",
       "    .dataframe tbody tr th {\n",
       "        vertical-align: top;\n",
       "    }\n",
       "\n",
       "    .dataframe thead th {\n",
       "        text-align: right;\n",
       "    }\n",
       "</style>\n",
       "<table border=\"1\" class=\"dataframe\">\n",
       "  <thead>\n",
       "    <tr style=\"text-align: right;\">\n",
       "      <th></th>\n",
       "      <th>ID</th>\n",
       "      <th>Sex</th>\n",
       "      <th>Marital status</th>\n",
       "      <th>Age</th>\n",
       "      <th>Education</th>\n",
       "      <th>Income</th>\n",
       "      <th>Occupation</th>\n",
       "      <th>Settlement size</th>\n",
       "    </tr>\n",
       "  </thead>\n",
       "  <tbody>\n",
       "    <tr>\n",
       "      <th>1860</th>\n",
       "      <td>100001861</td>\n",
       "      <td>1</td>\n",
       "      <td>1</td>\n",
       "      <td>43</td>\n",
       "      <td>1</td>\n",
       "      <td>48632</td>\n",
       "      <td>0</td>\n",
       "      <td>0</td>\n",
       "    </tr>\n",
       "    <tr>\n",
       "      <th>353</th>\n",
       "      <td>100000354</td>\n",
       "      <td>0</td>\n",
       "      <td>0</td>\n",
       "      <td>28</td>\n",
       "      <td>0</td>\n",
       "      <td>141847</td>\n",
       "      <td>1</td>\n",
       "      <td>1</td>\n",
       "    </tr>\n",
       "    <tr>\n",
       "      <th>1333</th>\n",
       "      <td>100001334</td>\n",
       "      <td>1</td>\n",
       "      <td>1</td>\n",
       "      <td>48</td>\n",
       "      <td>2</td>\n",
       "      <td>116235</td>\n",
       "      <td>0</td>\n",
       "      <td>0</td>\n",
       "    </tr>\n",
       "    <tr>\n",
       "      <th>905</th>\n",
       "      <td>100000906</td>\n",
       "      <td>0</td>\n",
       "      <td>0</td>\n",
       "      <td>20</td>\n",
       "      <td>0</td>\n",
       "      <td>116582</td>\n",
       "      <td>2</td>\n",
       "      <td>2</td>\n",
       "    </tr>\n",
       "    <tr>\n",
       "      <th>1289</th>\n",
       "      <td>100001290</td>\n",
       "      <td>0</td>\n",
       "      <td>0</td>\n",
       "      <td>49</td>\n",
       "      <td>1</td>\n",
       "      <td>118571</td>\n",
       "      <td>2</td>\n",
       "      <td>2</td>\n",
       "    </tr>\n",
       "  </tbody>\n",
       "</table>\n",
       "</div>"
      ],
      "text/plain": [
       "             ID  Sex  Marital status  Age  Education  Income  Occupation  \\\n",
       "1860  100001861    1               1   43          1   48632           0   \n",
       "353   100000354    0               0   28          0  141847           1   \n",
       "1333  100001334    1               1   48          2  116235           0   \n",
       "905   100000906    0               0   20          0  116582           2   \n",
       "1289  100001290    0               0   49          1  118571           2   \n",
       "\n",
       "      Settlement size  \n",
       "1860                0  \n",
       "353                 1  \n",
       "1333                0  \n",
       "905                 2  \n",
       "1289                2  "
      ]
     },
     "execution_count": 38,
     "metadata": {},
     "output_type": "execute_result"
    }
   ],
   "source": [
    "data.sample(n=5,random_state=42)"
   ]
  },
  {
   "cell_type": "markdown",
   "metadata": {},
   "source": [
    "The ID column nont needed and will dropped, this will in turn save memory"
   ]
  },
  {
   "cell_type": "code",
   "execution_count": 39,
   "metadata": {},
   "outputs": [
    {
     "data": {
      "text/plain": [
       "Index(['ID', 'Sex', 'Marital status', 'Age', 'Education', 'Income',\n",
       "       'Occupation', 'Settlement size'],\n",
       "      dtype='object')"
      ]
     },
     "execution_count": 39,
     "metadata": {},
     "output_type": "execute_result"
    }
   ],
   "source": [
    "data.columns"
   ]
  },
  {
   "cell_type": "code",
   "execution_count": 40,
   "metadata": {},
   "outputs": [
    {
     "data": {
      "text/plain": [
       "Index(['Sex', 'Marital status', 'Age', 'Education', 'Income', 'Occupation',\n",
       "       'Settlement size'],\n",
       "      dtype='object')"
      ]
     },
     "execution_count": 40,
     "metadata": {},
     "output_type": "execute_result"
    }
   ],
   "source": [
    "data.drop('ID',axis=1,inplace=True)\n",
    "data.columns"
   ]
  },
  {
   "cell_type": "code",
   "execution_count": 41,
   "metadata": {},
   "outputs": [
    {
     "data": {
      "text/plain": [
       "(2000, 7)"
      ]
     },
     "execution_count": 41,
     "metadata": {},
     "output_type": "execute_result"
    }
   ],
   "source": [
    "data.shape"
   ]
  },
  {
   "cell_type": "markdown",
   "metadata": {},
   "source": [
    "As shown show in the data description, there are 2,000 data points with 7 columns(ID column dropped)."
   ]
  },
  {
   "cell_type": "markdown",
   "metadata": {},
   "source": [
    "### **Preprocessing & EDA**"
   ]
  },
  {
   "cell_type": "markdown",
   "metadata": {},
   "source": [
    "**Rename columns**"
   ]
  },
  {
   "cell_type": "code",
   "execution_count": 42,
   "metadata": {},
   "outputs": [],
   "source": [
    "data_prep = data"
   ]
  },
  {
   "cell_type": "code",
   "execution_count": 43,
   "metadata": {},
   "outputs": [
    {
     "data": {
      "text/plain": [
       "Index(['sex', 'marital_status', 'age', 'education', 'income', 'occupation',\n",
       "       'settlement_size'],\n",
       "      dtype='object')"
      ]
     },
     "execution_count": 43,
     "metadata": {},
     "output_type": "execute_result"
    }
   ],
   "source": [
    "data_prep.columns = data_prep.columns.str.lower().str.replace(\" \",\"_\")\n",
    "data_prep.columns"
   ]
  },
  {
   "cell_type": "markdown",
   "metadata": {},
   "source": [
    "**Check for NaN values & duplicated values**"
   ]
  },
  {
   "cell_type": "code",
   "execution_count": 44,
   "metadata": {},
   "outputs": [
    {
     "data": {
      "text/plain": [
       "sex                0\n",
       "marital_status     0\n",
       "age                0\n",
       "education          0\n",
       "income             0\n",
       "occupation         0\n",
       "settlement_size    0\n",
       "dtype: int64"
      ]
     },
     "execution_count": 44,
     "metadata": {},
     "output_type": "execute_result"
    }
   ],
   "source": [
    "data_prep.isna().sum()"
   ]
  },
  {
   "cell_type": "code",
   "execution_count": 45,
   "metadata": {},
   "outputs": [
    {
     "data": {
      "text/plain": [
       "0"
      ]
     },
     "execution_count": 45,
     "metadata": {},
     "output_type": "execute_result"
    }
   ],
   "source": [
    "data_prep.duplicated().sum()"
   ]
  },
  {
   "cell_type": "markdown",
   "metadata": {},
   "source": [
    "**Check memory usage and descriptive statistics**"
   ]
  },
  {
   "cell_type": "markdown",
   "metadata": {},
   "source": [
    "\n",
    "| Data-Type | Precision |\n",
    "| ----------- | ----------- |\n",
    "float16   | 3\n",
    "float32   | 6\n",
    "float64   | 15\n",
    "float128  | 18\n",
    "\n",
    "--------------------------------- \n",
    "\n",
    "\n",
    "|Data type |min|max|\n",
    "| ----------- | ----------- |----------- |\n",
    "|int8|-128|127|\n",
    "|int16|-32768|32767|\n",
    "|int32|-2147483648|2147483647|\n",
    "|int64|-9223372036854775808|9223372036854775807|"
   ]
  },
  {
   "cell_type": "code",
   "execution_count": 46,
   "metadata": {},
   "outputs": [
    {
     "name": "stdout",
     "output_type": "stream",
     "text": [
      "<class 'pandas.core.frame.DataFrame'>\n",
      "RangeIndex: 2000 entries, 0 to 1999\n",
      "Data columns (total 7 columns):\n",
      " #   Column           Non-Null Count  Dtype\n",
      "---  ------           --------------  -----\n",
      " 0   sex              2000 non-null   int64\n",
      " 1   marital_status   2000 non-null   int64\n",
      " 2   age              2000 non-null   int64\n",
      " 3   education        2000 non-null   int64\n",
      " 4   income           2000 non-null   int64\n",
      " 5   occupation       2000 non-null   int64\n",
      " 6   settlement_size  2000 non-null   int64\n",
      "dtypes: int64(7)\n",
      "memory usage: 109.5 KB\n"
     ]
    }
   ],
   "source": [
    "data_prep.info(memory_usage='deep')"
   ]
  },
  {
   "cell_type": "markdown",
   "metadata": {},
   "source": [
    "occupation, education, settle_size, marital status and sex should all be categorical data points"
   ]
  },
  {
   "cell_type": "code",
   "execution_count": 50,
   "metadata": {},
   "outputs": [],
   "source": [
    "cat = ['sex', 'marital_status', 'education', 'occupation',\n",
    "       'settlement_size']\n",
    "\n",
    "for col in cat:\n",
    "    data_prep[col] = data_prep[col].astype('category')"
   ]
  },
  {
   "cell_type": "code",
   "execution_count": 51,
   "metadata": {},
   "outputs": [
    {
     "name": "stdout",
     "output_type": "stream",
     "text": [
      "<class 'pandas.core.frame.DataFrame'>\n",
      "RangeIndex: 2000 entries, 0 to 1999\n",
      "Data columns (total 7 columns):\n",
      " #   Column           Non-Null Count  Dtype   \n",
      "---  ------           --------------  -----   \n",
      " 0   sex              2000 non-null   category\n",
      " 1   marital_status   2000 non-null   category\n",
      " 2   age              2000 non-null   int64   \n",
      " 3   education        2000 non-null   category\n",
      " 4   income           2000 non-null   int64   \n",
      " 5   occupation       2000 non-null   category\n",
      " 6   settlement_size  2000 non-null   category\n",
      "dtypes: category(5), int64(2)\n",
      "memory usage: 41.8 KB\n"
     ]
    }
   ],
   "source": [
    "data_prep.info(memory_usage='deep')"
   ]
  },
  {
   "cell_type": "markdown",
   "metadata": {},
   "source": [
    "Memory size has dropped from 109.5 KB to 41.8 KB"
   ]
  },
  {
   "cell_type": "code",
   "execution_count": 62,
   "metadata": {},
   "outputs": [],
   "source": [
    "data_prep['age'] = data_prep['age'].astype(np.int8)\n",
    "data_prep['income'] = data_prep['income'].astype(np.int32)"
   ]
  },
  {
   "cell_type": "code",
   "execution_count": 64,
   "metadata": {},
   "outputs": [
    {
     "name": "stdout",
     "output_type": "stream",
     "text": [
      "<class 'pandas.core.frame.DataFrame'>\n",
      "RangeIndex: 2000 entries, 0 to 1999\n",
      "Data columns (total 7 columns):\n",
      " #   Column           Non-Null Count  Dtype   \n",
      "---  ------           --------------  -----   \n",
      " 0   sex              2000 non-null   category\n",
      " 1   marital_status   2000 non-null   category\n",
      " 2   age              2000 non-null   int8    \n",
      " 3   education        2000 non-null   category\n",
      " 4   income           2000 non-null   int32   \n",
      " 5   occupation       2000 non-null   category\n",
      " 6   settlement_size  2000 non-null   category\n",
      "dtypes: category(5), int32(1), int8(1)\n",
      "memory usage: 20.4 KB\n"
     ]
    }
   ],
   "source": [
    "data_prep.info(memory_usage='deep')"
   ]
  },
  {
   "cell_type": "markdown",
   "metadata": {},
   "source": [
    "Memory size has dropped from 41.8 KB to 20.4 KB"
   ]
  },
  {
   "cell_type": "code",
   "execution_count": 65,
   "metadata": {},
   "outputs": [
    {
     "data": {
      "text/html": [
       "<div>\n",
       "<style scoped>\n",
       "    .dataframe tbody tr th:only-of-type {\n",
       "        vertical-align: middle;\n",
       "    }\n",
       "\n",
       "    .dataframe tbody tr th {\n",
       "        vertical-align: top;\n",
       "    }\n",
       "\n",
       "    .dataframe thead th {\n",
       "        text-align: right;\n",
       "    }\n",
       "</style>\n",
       "<table border=\"1\" class=\"dataframe\">\n",
       "  <thead>\n",
       "    <tr style=\"text-align: right;\">\n",
       "      <th></th>\n",
       "      <th>age</th>\n",
       "      <th>income</th>\n",
       "    </tr>\n",
       "  </thead>\n",
       "  <tbody>\n",
       "    <tr>\n",
       "      <th>count</th>\n",
       "      <td>2000.000000</td>\n",
       "      <td>2000.000000</td>\n",
       "    </tr>\n",
       "    <tr>\n",
       "      <th>mean</th>\n",
       "      <td>35.909000</td>\n",
       "      <td>120954.419000</td>\n",
       "    </tr>\n",
       "    <tr>\n",
       "      <th>std</th>\n",
       "      <td>11.719402</td>\n",
       "      <td>38108.824679</td>\n",
       "    </tr>\n",
       "    <tr>\n",
       "      <th>min</th>\n",
       "      <td>18.000000</td>\n",
       "      <td>35832.000000</td>\n",
       "    </tr>\n",
       "    <tr>\n",
       "      <th>25%</th>\n",
       "      <td>27.000000</td>\n",
       "      <td>97663.250000</td>\n",
       "    </tr>\n",
       "    <tr>\n",
       "      <th>50%</th>\n",
       "      <td>33.000000</td>\n",
       "      <td>115548.500000</td>\n",
       "    </tr>\n",
       "    <tr>\n",
       "      <th>75%</th>\n",
       "      <td>42.000000</td>\n",
       "      <td>138072.250000</td>\n",
       "    </tr>\n",
       "    <tr>\n",
       "      <th>max</th>\n",
       "      <td>76.000000</td>\n",
       "      <td>309364.000000</td>\n",
       "    </tr>\n",
       "  </tbody>\n",
       "</table>\n",
       "</div>"
      ],
      "text/plain": [
       "               age         income\n",
       "count  2000.000000    2000.000000\n",
       "mean     35.909000  120954.419000\n",
       "std      11.719402   38108.824679\n",
       "min      18.000000   35832.000000\n",
       "25%      27.000000   97663.250000\n",
       "50%      33.000000  115548.500000\n",
       "75%      42.000000  138072.250000\n",
       "max      76.000000  309364.000000"
      ]
     },
     "execution_count": 65,
     "metadata": {},
     "output_type": "execute_result"
    }
   ],
   "source": [
    "data_prep.describe(include=np.number)"
   ]
  },
  {
   "cell_type": "markdown",
   "metadata": {},
   "source": [
    "**Observations**\n",
    "- Mean age is 36, having a mean salar of 120954\n",
    "- There is minimum deviation inn age, meaning less variance in the dat.\n",
    "- Median age is 33 years old\n",
    "- Oldest person is 76 years old."
   ]
  },
  {
   "cell_type": "code",
   "execution_count": 66,
   "metadata": {},
   "outputs": [
    {
     "data": {
      "text/html": [
       "<div>\n",
       "<style scoped>\n",
       "    .dataframe tbody tr th:only-of-type {\n",
       "        vertical-align: middle;\n",
       "    }\n",
       "\n",
       "    .dataframe tbody tr th {\n",
       "        vertical-align: top;\n",
       "    }\n",
       "\n",
       "    .dataframe thead th {\n",
       "        text-align: right;\n",
       "    }\n",
       "</style>\n",
       "<table border=\"1\" class=\"dataframe\">\n",
       "  <thead>\n",
       "    <tr style=\"text-align: right;\">\n",
       "      <th></th>\n",
       "      <th>sex</th>\n",
       "      <th>marital_status</th>\n",
       "      <th>education</th>\n",
       "      <th>occupation</th>\n",
       "      <th>settlement_size</th>\n",
       "    </tr>\n",
       "  </thead>\n",
       "  <tbody>\n",
       "    <tr>\n",
       "      <th>count</th>\n",
       "      <td>2000</td>\n",
       "      <td>2000</td>\n",
       "      <td>2000</td>\n",
       "      <td>2000</td>\n",
       "      <td>2000</td>\n",
       "    </tr>\n",
       "    <tr>\n",
       "      <th>unique</th>\n",
       "      <td>2</td>\n",
       "      <td>2</td>\n",
       "      <td>4</td>\n",
       "      <td>3</td>\n",
       "      <td>3</td>\n",
       "    </tr>\n",
       "    <tr>\n",
       "      <th>top</th>\n",
       "      <td>0</td>\n",
       "      <td>0</td>\n",
       "      <td>1</td>\n",
       "      <td>1</td>\n",
       "      <td>0</td>\n",
       "    </tr>\n",
       "    <tr>\n",
       "      <th>freq</th>\n",
       "      <td>1086</td>\n",
       "      <td>1007</td>\n",
       "      <td>1386</td>\n",
       "      <td>1113</td>\n",
       "      <td>989</td>\n",
       "    </tr>\n",
       "  </tbody>\n",
       "</table>\n",
       "</div>"
      ],
      "text/plain": [
       "         sex  marital_status  education  occupation  settlement_size\n",
       "count   2000            2000       2000        2000             2000\n",
       "unique     2               2          4           3                3\n",
       "top        0               0          1           1                0\n",
       "freq    1086            1007       1386        1113              989"
      ]
     },
     "execution_count": 66,
     "metadata": {},
     "output_type": "execute_result"
    }
   ],
   "source": [
    "data_prep.describe(include='category')"
   ]
  },
  {
   "cell_type": "markdown",
   "metadata": {},
   "source": [
    "**Observations**\n",
    "- There are more males than females in this dataset\n",
    "- There are more single people that the non-single people\n",
    "- There are more high scool students than the rest.\n",
    "- There are more skilled employee/ official people than the rest\n",
    "- More people come from small cities than mid-sized and big cities"
   ]
  },
  {
   "cell_type": "code",
   "execution_count": 68,
   "metadata": {},
   "outputs": [],
   "source": [
    "eda = data_prep"
   ]
  },
  {
   "cell_type": "code",
   "execution_count": 74,
   "metadata": {},
   "outputs": [
    {
     "name": "stdout",
     "output_type": "stream",
     "text": [
      "Index(['sex', 'marital_status', 'education', 'occupation', 'settlement_size'], dtype='object')\n",
      "5\n"
     ]
    }
   ],
   "source": [
    "print(eda.select_dtypes(include=pd.CategoricalDtype).columns)\n",
    "print(eda.select_dtypes(include=pd.CategoricalDtype).columns.value_counts().sum())"
   ]
  },
  {
   "cell_type": "code",
   "execution_count": 73,
   "metadata": {},
   "outputs": [
    {
     "data": {
      "text/plain": [
       "['age', 'income']"
      ]
     },
     "execution_count": 73,
     "metadata": {},
     "output_type": "execute_result"
    }
   ],
   "source": [
    "num_list = eda.select_dtypes(exclude=pd.CategoricalDtype).columns.to_list()\n",
    "num_list"
   ]
  },
  {
   "cell_type": "code",
   "execution_count": 90,
   "metadata": {},
   "outputs": [],
   "source": [
    "def range_cal(arr):\n",
    "    return arr.max() - arr.min()"
   ]
  },
  {
   "cell_type": "code",
   "execution_count": 91,
   "metadata": {},
   "outputs": [],
   "source": [
    "def summary_stats(group:str,column):\n",
    "    try:\n",
    "        if eda[column].dtype !=pd.CategoricalDtype:\n",
    "            group_data = (\n",
    "                eda.groupby(group)[column].agg(\n",
    "                    [\n",
    "                        (f\"total_{column}\",'sum'),\n",
    "                        (f'average_{column}','mean'),\n",
    "                        (f'deviation_{column}','std'),\n",
    "                        (f\"range_{column}\",range_cal),\n",
    "                        (f\"skewness_level_{column}\",\"skew\")\n",
    "                    ]\n",
    "                ).reset_index()\n",
    "            )\n",
    "            return group_data\n",
    "        else:\n",
    "            group_data = (\n",
    "                eda.groupby(group)[column].agg(\n",
    "                    [\n",
    "                        (f\"count_total_{column}\",'count')\n",
    "                    ]\n",
    "                ).reset_index()\n",
    "            )\n",
    "            return group_data\n",
    "    except KeyError:\n",
    "        print(f\"This is the list of keys: {eda.columns}\")"
   ]
  },
  {
   "cell_type": "markdown",
   "metadata": {},
   "source": [
    "**Looking into sex**"
   ]
  },
  {
   "cell_type": "code",
   "execution_count": 92,
   "metadata": {},
   "outputs": [
    {
     "data": {
      "text/html": [
       "<div>\n",
       "<style scoped>\n",
       "    .dataframe tbody tr th:only-of-type {\n",
       "        vertical-align: middle;\n",
       "    }\n",
       "\n",
       "    .dataframe tbody tr th {\n",
       "        vertical-align: top;\n",
       "    }\n",
       "\n",
       "    .dataframe thead th {\n",
       "        text-align: right;\n",
       "    }\n",
       "</style>\n",
       "<table border=\"1\" class=\"dataframe\">\n",
       "  <thead>\n",
       "    <tr style=\"text-align: right;\">\n",
       "      <th></th>\n",
       "      <th>sex</th>\n",
       "      <th>total_age</th>\n",
       "      <th>average_age</th>\n",
       "      <th>deviation_age</th>\n",
       "      <th>range_age</th>\n",
       "      <th>skewness_level_age</th>\n",
       "    </tr>\n",
       "  </thead>\n",
       "  <tbody>\n",
       "    <tr>\n",
       "      <th>0</th>\n",
       "      <td>0</td>\n",
       "      <td>41132.0</td>\n",
       "      <td>37.874770</td>\n",
       "      <td>11.549013</td>\n",
       "      <td>57</td>\n",
       "      <td>0.856399</td>\n",
       "    </tr>\n",
       "    <tr>\n",
       "      <th>1</th>\n",
       "      <td>1</td>\n",
       "      <td>30686.0</td>\n",
       "      <td>33.573304</td>\n",
       "      <td>11.495586</td>\n",
       "      <td>58</td>\n",
       "      <td>1.310032</td>\n",
       "    </tr>\n",
       "  </tbody>\n",
       "</table>\n",
       "</div>"
      ],
      "text/plain": [
       "  sex  total_age  average_age  deviation_age  range_age  skewness_level_age\n",
       "0   0    41132.0    37.874770      11.549013         57            0.856399\n",
       "1   1    30686.0    33.573304      11.495586         58            1.310032"
      ]
     },
     "execution_count": 92,
     "metadata": {},
     "output_type": "execute_result"
    }
   ],
   "source": [
    "cats = ['sex', 'marital_status', 'education', 'occupation', 'settlement_size']\n",
    "sex = summary_stats(column=num_list[0],group=cats[0])\n",
    "sex"
   ]
  },
  {
   "cell_type": "code",
   "execution_count": null,
   "metadata": {},
   "outputs": [
    {
     "data": {
      "text/html": [
       "<div>\n",
       "<style scoped>\n",
       "    .dataframe tbody tr th:only-of-type {\n",
       "        vertical-align: middle;\n",
       "    }\n",
       "\n",
       "    .dataframe tbody tr th {\n",
       "        vertical-align: top;\n",
       "    }\n",
       "\n",
       "    .dataframe thead th {\n",
       "        text-align: right;\n",
       "    }\n",
       "</style>\n",
       "<table border=\"1\" class=\"dataframe\">\n",
       "  <thead>\n",
       "    <tr style=\"text-align: right;\">\n",
       "      <th></th>\n",
       "      <th>sex</th>\n",
       "      <th>total_income</th>\n",
       "      <th>average_income</th>\n",
       "      <th>deviation_income</th>\n",
       "      <th>range_income</th>\n",
       "      <th>skewness_level_income</th>\n",
       "    </tr>\n",
       "  </thead>\n",
       "  <tbody>\n",
       "    <tr>\n",
       "      <th>0</th>\n",
       "      <td>0</td>\n",
       "      <td>138763895</td>\n",
       "      <td>127775.225599</td>\n",
       "      <td>39821.354629</td>\n",
       "      <td>243563</td>\n",
       "      <td>1.062436</td>\n",
       "    </tr>\n",
       "    <tr>\n",
       "      <th>1</th>\n",
       "      <td>1</td>\n",
       "      <td>103144943</td>\n",
       "      <td>112850.047046</td>\n",
       "      <td>34266.333929</td>\n",
       "      <td>273532</td>\n",
       "      <td>1.378790</td>\n",
       "    </tr>\n",
       "  </tbody>\n",
       "</table>\n",
       "</div>"
      ],
      "text/plain": [
       "  sex  total_income  average_income  deviation_income  range_income  \\\n",
       "0   0     138763895   127775.225599      39821.354629        243563   \n",
       "1   1     103144943   112850.047046      34266.333929        273532   \n",
       "\n",
       "   skewness_level_income  \n",
       "0               1.062436  \n",
       "1               1.378790  "
      ]
     },
     "metadata": {},
     "output_type": "display_data"
    }
   ],
   "source": [
    "cats = ['sex', 'marital_status', 'education', 'occupation', 'settlement_size']\n",
    "sex = summary_stats(column=num_list[1],group=cats[0])\n",
    "sex"
   ]
  },
  {
   "cell_type": "markdown",
   "metadata": {},
   "source": [
    "**Observations**"
   ]
  },
  {
   "cell_type": "markdown",
   "metadata": {},
   "source": [
    "**Looking into marital_status**"
   ]
  },
  {
   "cell_type": "code",
   "execution_count": 93,
   "metadata": {},
   "outputs": [
    {
     "data": {
      "text/html": [
       "<div>\n",
       "<style scoped>\n",
       "    .dataframe tbody tr th:only-of-type {\n",
       "        vertical-align: middle;\n",
       "    }\n",
       "\n",
       "    .dataframe tbody tr th {\n",
       "        vertical-align: top;\n",
       "    }\n",
       "\n",
       "    .dataframe thead th {\n",
       "        text-align: right;\n",
       "    }\n",
       "</style>\n",
       "<table border=\"1\" class=\"dataframe\">\n",
       "  <thead>\n",
       "    <tr style=\"text-align: right;\">\n",
       "      <th></th>\n",
       "      <th>marital_status</th>\n",
       "      <th>total_age</th>\n",
       "      <th>average_age</th>\n",
       "      <th>deviation_age</th>\n",
       "      <th>range_age</th>\n",
       "      <th>skewness_level_age</th>\n",
       "    </tr>\n",
       "  </thead>\n",
       "  <tbody>\n",
       "    <tr>\n",
       "      <th>0</th>\n",
       "      <td>0</td>\n",
       "      <td>38658.0</td>\n",
       "      <td>38.389275</td>\n",
       "      <td>11.326854</td>\n",
       "      <td>56</td>\n",
       "      <td>0.851805</td>\n",
       "    </tr>\n",
       "    <tr>\n",
       "      <th>1</th>\n",
       "      <td>1</td>\n",
       "      <td>33160.0</td>\n",
       "      <td>33.393756</td>\n",
       "      <td>11.579278</td>\n",
       "      <td>58</td>\n",
       "      <td>1.331932</td>\n",
       "    </tr>\n",
       "  </tbody>\n",
       "</table>\n",
       "</div>"
      ],
      "text/plain": [
       "  marital_status  total_age  average_age  deviation_age  range_age  \\\n",
       "0              0    38658.0    38.389275      11.326854         56   \n",
       "1              1    33160.0    33.393756      11.579278         58   \n",
       "\n",
       "   skewness_level_age  \n",
       "0            0.851805  \n",
       "1            1.331932  "
      ]
     },
     "execution_count": 93,
     "metadata": {},
     "output_type": "execute_result"
    }
   ],
   "source": [
    "marital_status = summary_stats(column=num_list[0],group=cats[1])\n",
    "marital_status"
   ]
  },
  {
   "cell_type": "code",
   "execution_count": null,
   "metadata": {},
   "outputs": [
    {
     "data": {
      "text/html": [
       "<div>\n",
       "<style scoped>\n",
       "    .dataframe tbody tr th:only-of-type {\n",
       "        vertical-align: middle;\n",
       "    }\n",
       "\n",
       "    .dataframe tbody tr th {\n",
       "        vertical-align: top;\n",
       "    }\n",
       "\n",
       "    .dataframe thead th {\n",
       "        text-align: right;\n",
       "    }\n",
       "</style>\n",
       "<table border=\"1\" class=\"dataframe\">\n",
       "  <thead>\n",
       "    <tr style=\"text-align: right;\">\n",
       "      <th></th>\n",
       "      <th>marital_status</th>\n",
       "      <th>total_income</th>\n",
       "      <th>average_income</th>\n",
       "      <th>deviation_income</th>\n",
       "      <th>range_income</th>\n",
       "      <th>skewness_level_income</th>\n",
       "    </tr>\n",
       "  </thead>\n",
       "  <tbody>\n",
       "    <tr>\n",
       "      <th>0</th>\n",
       "      <td>0</td>\n",
       "      <td>124602386</td>\n",
       "      <td>123736.232373</td>\n",
       "      <td>39370.686617</td>\n",
       "      <td>250487</td>\n",
       "      <td>1.132365</td>\n",
       "    </tr>\n",
       "    <tr>\n",
       "      <th>1</th>\n",
       "      <td>1</td>\n",
       "      <td>117306452</td>\n",
       "      <td>118133.385700</td>\n",
       "      <td>36589.295150</td>\n",
       "      <td>273532</td>\n",
       "      <td>1.258713</td>\n",
       "    </tr>\n",
       "  </tbody>\n",
       "</table>\n",
       "</div>"
      ],
      "text/plain": [
       "  marital_status  total_income  average_income  deviation_income  \\\n",
       "0              0     124602386   123736.232373      39370.686617   \n",
       "1              1     117306452   118133.385700      36589.295150   \n",
       "\n",
       "   range_income  skewness_level_income  \n",
       "0        250487               1.132365  \n",
       "1        273532               1.258713  "
      ]
     },
     "metadata": {},
     "output_type": "display_data"
    }
   ],
   "source": [
    "marital_status = summary_stats(column=num_list[1],group=cats[1])\n",
    "marital_status"
   ]
  },
  {
   "cell_type": "markdown",
   "metadata": {},
   "source": [
    "**Observations**"
   ]
  },
  {
   "cell_type": "markdown",
   "metadata": {},
   "source": [
    "**Looking into education**"
   ]
  },
  {
   "cell_type": "code",
   "execution_count": 94,
   "metadata": {},
   "outputs": [
    {
     "data": {
      "text/html": [
       "<div>\n",
       "<style scoped>\n",
       "    .dataframe tbody tr th:only-of-type {\n",
       "        vertical-align: middle;\n",
       "    }\n",
       "\n",
       "    .dataframe tbody tr th {\n",
       "        vertical-align: top;\n",
       "    }\n",
       "\n",
       "    .dataframe thead th {\n",
       "        text-align: right;\n",
       "    }\n",
       "</style>\n",
       "<table border=\"1\" class=\"dataframe\">\n",
       "  <thead>\n",
       "    <tr style=\"text-align: right;\">\n",
       "      <th></th>\n",
       "      <th>education</th>\n",
       "      <th>total_age</th>\n",
       "      <th>average_age</th>\n",
       "      <th>deviation_age</th>\n",
       "      <th>range_age</th>\n",
       "      <th>skewness_level_age</th>\n",
       "    </tr>\n",
       "  </thead>\n",
       "  <tbody>\n",
       "    <tr>\n",
       "      <th>0</th>\n",
       "      <td>0</td>\n",
       "      <td>7866.0</td>\n",
       "      <td>27.407666</td>\n",
       "      <td>3.235134</td>\n",
       "      <td>13</td>\n",
       "      <td>-0.219549</td>\n",
       "    </tr>\n",
       "    <tr>\n",
       "      <th>1</th>\n",
       "      <td>1</td>\n",
       "      <td>46211.0</td>\n",
       "      <td>33.341270</td>\n",
       "      <td>8.387785</td>\n",
       "      <td>40</td>\n",
       "      <td>0.518733</td>\n",
       "    </tr>\n",
       "    <tr>\n",
       "      <th>2</th>\n",
       "      <td>2</td>\n",
       "      <td>15689.0</td>\n",
       "      <td>53.914089</td>\n",
       "      <td>8.965615</td>\n",
       "      <td>37</td>\n",
       "      <td>0.144253</td>\n",
       "    </tr>\n",
       "    <tr>\n",
       "      <th>3</th>\n",
       "      <td>3</td>\n",
       "      <td>2052.0</td>\n",
       "      <td>57.000000</td>\n",
       "      <td>17.381435</td>\n",
       "      <td>51</td>\n",
       "      <td>-0.821601</td>\n",
       "    </tr>\n",
       "  </tbody>\n",
       "</table>\n",
       "</div>"
      ],
      "text/plain": [
       "  education  total_age  average_age  deviation_age  range_age  \\\n",
       "0         0     7866.0    27.407666       3.235134         13   \n",
       "1         1    46211.0    33.341270       8.387785         40   \n",
       "2         2    15689.0    53.914089       8.965615         37   \n",
       "3         3     2052.0    57.000000      17.381435         51   \n",
       "\n",
       "   skewness_level_age  \n",
       "0           -0.219549  \n",
       "1            0.518733  \n",
       "2            0.144253  \n",
       "3           -0.821601  "
      ]
     },
     "execution_count": 94,
     "metadata": {},
     "output_type": "execute_result"
    }
   ],
   "source": [
    "education = summary_stats(column=num_list[0],group=cats[2])\n",
    "education"
   ]
  },
  {
   "cell_type": "code",
   "execution_count": null,
   "metadata": {},
   "outputs": [
    {
     "data": {
      "text/html": [
       "<div>\n",
       "<style scoped>\n",
       "    .dataframe tbody tr th:only-of-type {\n",
       "        vertical-align: middle;\n",
       "    }\n",
       "\n",
       "    .dataframe tbody tr th {\n",
       "        vertical-align: top;\n",
       "    }\n",
       "\n",
       "    .dataframe thead th {\n",
       "        text-align: right;\n",
       "    }\n",
       "</style>\n",
       "<table border=\"1\" class=\"dataframe\">\n",
       "  <thead>\n",
       "    <tr style=\"text-align: right;\">\n",
       "      <th></th>\n",
       "      <th>education</th>\n",
       "      <th>total_income</th>\n",
       "      <th>average_income</th>\n",
       "      <th>deviation_income</th>\n",
       "      <th>range_income</th>\n",
       "      <th>skewness_level_income</th>\n",
       "    </tr>\n",
       "  </thead>\n",
       "  <tbody>\n",
       "    <tr>\n",
       "      <th>0</th>\n",
       "      <td>0</td>\n",
       "      <td>33024577</td>\n",
       "      <td>115068.212544</td>\n",
       "      <td>40058.777044</td>\n",
       "      <td>211514</td>\n",
       "      <td>0.988842</td>\n",
       "    </tr>\n",
       "    <tr>\n",
       "      <th>1</th>\n",
       "      <td>1</td>\n",
       "      <td>161285660</td>\n",
       "      <td>116367.720058</td>\n",
       "      <td>32636.570352</td>\n",
       "      <td>272659</td>\n",
       "      <td>0.950019</td>\n",
       "    </tr>\n",
       "    <tr>\n",
       "      <th>2</th>\n",
       "      <td>2</td>\n",
       "      <td>42313141</td>\n",
       "      <td>145405.982818</td>\n",
       "      <td>48501.606672</td>\n",
       "      <td>257482</td>\n",
       "      <td>1.181768</td>\n",
       "    </tr>\n",
       "    <tr>\n",
       "      <th>3</th>\n",
       "      <td>3</td>\n",
       "      <td>5285460</td>\n",
       "      <td>146818.333333</td>\n",
       "      <td>37635.665122</td>\n",
       "      <td>144877</td>\n",
       "      <td>-0.303424</td>\n",
       "    </tr>\n",
       "  </tbody>\n",
       "</table>\n",
       "</div>"
      ],
      "text/plain": [
       "  education  total_income  average_income  deviation_income  range_income  \\\n",
       "0         0      33024577   115068.212544      40058.777044        211514   \n",
       "1         1     161285660   116367.720058      32636.570352        272659   \n",
       "2         2      42313141   145405.982818      48501.606672        257482   \n",
       "3         3       5285460   146818.333333      37635.665122        144877   \n",
       "\n",
       "   skewness_level_income  \n",
       "0               0.988842  \n",
       "1               0.950019  \n",
       "2               1.181768  \n",
       "3              -0.303424  "
      ]
     },
     "metadata": {},
     "output_type": "display_data"
    }
   ],
   "source": [
    "education = summary_stats(column=num_list[1],group=cats[2])\n",
    "education"
   ]
  },
  {
   "cell_type": "markdown",
   "metadata": {},
   "source": [
    "**Observations**"
   ]
  },
  {
   "cell_type": "markdown",
   "metadata": {},
   "source": [
    "**Looking into occupation**"
   ]
  },
  {
   "cell_type": "code",
   "execution_count": 95,
   "metadata": {},
   "outputs": [
    {
     "data": {
      "text/html": [
       "<div>\n",
       "<style scoped>\n",
       "    .dataframe tbody tr th:only-of-type {\n",
       "        vertical-align: middle;\n",
       "    }\n",
       "\n",
       "    .dataframe tbody tr th {\n",
       "        vertical-align: top;\n",
       "    }\n",
       "\n",
       "    .dataframe thead th {\n",
       "        text-align: right;\n",
       "    }\n",
       "</style>\n",
       "<table border=\"1\" class=\"dataframe\">\n",
       "  <thead>\n",
       "    <tr style=\"text-align: right;\">\n",
       "      <th></th>\n",
       "      <th>occupation</th>\n",
       "      <th>total_age</th>\n",
       "      <th>average_age</th>\n",
       "      <th>deviation_age</th>\n",
       "      <th>range_age</th>\n",
       "      <th>skewness_level_age</th>\n",
       "    </tr>\n",
       "  </thead>\n",
       "  <tbody>\n",
       "    <tr>\n",
       "      <th>0</th>\n",
       "      <td>0</td>\n",
       "      <td>22387.0</td>\n",
       "      <td>35.366509</td>\n",
       "      <td>11.342131</td>\n",
       "      <td>55</td>\n",
       "      <td>0.972772</td>\n",
       "    </tr>\n",
       "    <tr>\n",
       "      <th>1</th>\n",
       "      <td>1</td>\n",
       "      <td>39032.0</td>\n",
       "      <td>35.069182</td>\n",
       "      <td>11.424119</td>\n",
       "      <td>53</td>\n",
       "      <td>1.019542</td>\n",
       "    </tr>\n",
       "    <tr>\n",
       "      <th>2</th>\n",
       "      <td>2</td>\n",
       "      <td>10399.0</td>\n",
       "      <td>40.940945</td>\n",
       "      <td>12.686259</td>\n",
       "      <td>56</td>\n",
       "      <td>1.007765</td>\n",
       "    </tr>\n",
       "  </tbody>\n",
       "</table>\n",
       "</div>"
      ],
      "text/plain": [
       "  occupation  total_age  average_age  deviation_age  range_age  \\\n",
       "0          0    22387.0    35.366509      11.342131         55   \n",
       "1          1    39032.0    35.069182      11.424119         53   \n",
       "2          2    10399.0    40.940945      12.686259         56   \n",
       "\n",
       "   skewness_level_age  \n",
       "0            0.972772  \n",
       "1            1.019542  \n",
       "2            1.007765  "
      ]
     },
     "execution_count": 95,
     "metadata": {},
     "output_type": "execute_result"
    }
   ],
   "source": [
    "occupation = summary_stats(column=num_list[0],group=cats[3])\n",
    "occupation"
   ]
  },
  {
   "cell_type": "code",
   "execution_count": null,
   "metadata": {},
   "outputs": [
    {
     "data": {
      "text/html": [
       "<div>\n",
       "<style scoped>\n",
       "    .dataframe tbody tr th:only-of-type {\n",
       "        vertical-align: middle;\n",
       "    }\n",
       "\n",
       "    .dataframe tbody tr th {\n",
       "        vertical-align: top;\n",
       "    }\n",
       "\n",
       "    .dataframe thead th {\n",
       "        text-align: right;\n",
       "    }\n",
       "</style>\n",
       "<table border=\"1\" class=\"dataframe\">\n",
       "  <thead>\n",
       "    <tr style=\"text-align: right;\">\n",
       "      <th></th>\n",
       "      <th>occupation</th>\n",
       "      <th>total_income</th>\n",
       "      <th>average_income</th>\n",
       "      <th>deviation_income</th>\n",
       "      <th>range_income</th>\n",
       "      <th>skewness_level_income</th>\n",
       "    </tr>\n",
       "  </thead>\n",
       "  <tbody>\n",
       "    <tr>\n",
       "      <th>0</th>\n",
       "      <td>0</td>\n",
       "      <td>57499968</td>\n",
       "      <td>90837.232227</td>\n",
       "      <td>23943.549449</td>\n",
       "      <td>145171</td>\n",
       "      <td>0.630009</td>\n",
       "    </tr>\n",
       "    <tr>\n",
       "      <th>1</th>\n",
       "      <td>1</td>\n",
       "      <td>139653089</td>\n",
       "      <td>125474.473495</td>\n",
       "      <td>24745.006378</td>\n",
       "      <td>185942</td>\n",
       "      <td>1.488324</td>\n",
       "    </tr>\n",
       "    <tr>\n",
       "      <th>2</th>\n",
       "      <td>2</td>\n",
       "      <td>44755781</td>\n",
       "      <td>176203.862205</td>\n",
       "      <td>43903.518363</td>\n",
       "      <td>218864</td>\n",
       "      <td>0.882357</td>\n",
       "    </tr>\n",
       "  </tbody>\n",
       "</table>\n",
       "</div>"
      ],
      "text/plain": [
       "  occupation  total_income  average_income  deviation_income  range_income  \\\n",
       "0          0      57499968    90837.232227      23943.549449        145171   \n",
       "1          1     139653089   125474.473495      24745.006378        185942   \n",
       "2          2      44755781   176203.862205      43903.518363        218864   \n",
       "\n",
       "   skewness_level_income  \n",
       "0               0.630009  \n",
       "1               1.488324  \n",
       "2               0.882357  "
      ]
     },
     "metadata": {},
     "output_type": "display_data"
    }
   ],
   "source": [
    "occupation = summary_stats(column=num_list[1],group=cats[3])\n",
    "occupation"
   ]
  },
  {
   "cell_type": "markdown",
   "metadata": {},
   "source": [
    "**Observations**"
   ]
  },
  {
   "cell_type": "markdown",
   "metadata": {},
   "source": [
    "**Looking into settlement_size**"
   ]
  },
  {
   "cell_type": "code",
   "execution_count": 96,
   "metadata": {},
   "outputs": [
    {
     "data": {
      "text/html": [
       "<div>\n",
       "<style scoped>\n",
       "    .dataframe tbody tr th:only-of-type {\n",
       "        vertical-align: middle;\n",
       "    }\n",
       "\n",
       "    .dataframe tbody tr th {\n",
       "        vertical-align: top;\n",
       "    }\n",
       "\n",
       "    .dataframe thead th {\n",
       "        text-align: right;\n",
       "    }\n",
       "</style>\n",
       "<table border=\"1\" class=\"dataframe\">\n",
       "  <thead>\n",
       "    <tr style=\"text-align: right;\">\n",
       "      <th></th>\n",
       "      <th>settlement_size</th>\n",
       "      <th>total_age</th>\n",
       "      <th>average_age</th>\n",
       "      <th>deviation_age</th>\n",
       "      <th>range_age</th>\n",
       "      <th>skewness_level_age</th>\n",
       "    </tr>\n",
       "  </thead>\n",
       "  <tbody>\n",
       "    <tr>\n",
       "      <th>0</th>\n",
       "      <td>0</td>\n",
       "      <td>33920.0</td>\n",
       "      <td>34.297270</td>\n",
       "      <td>10.709856</td>\n",
       "      <td>56</td>\n",
       "      <td>1.113176</td>\n",
       "    </tr>\n",
       "    <tr>\n",
       "      <th>1</th>\n",
       "      <td>1</td>\n",
       "      <td>20443.0</td>\n",
       "      <td>37.579044</td>\n",
       "      <td>12.853087</td>\n",
       "      <td>58</td>\n",
       "      <td>0.884697</td>\n",
       "    </tr>\n",
       "    <tr>\n",
       "      <th>2</th>\n",
       "      <td>2</td>\n",
       "      <td>17455.0</td>\n",
       "      <td>37.376874</td>\n",
       "      <td>11.939554</td>\n",
       "      <td>52</td>\n",
       "      <td>0.870938</td>\n",
       "    </tr>\n",
       "  </tbody>\n",
       "</table>\n",
       "</div>"
      ],
      "text/plain": [
       "  settlement_size  total_age  average_age  deviation_age  range_age  \\\n",
       "0               0    33920.0    34.297270      10.709856         56   \n",
       "1               1    20443.0    37.579044      12.853087         58   \n",
       "2               2    17455.0    37.376874      11.939554         52   \n",
       "\n",
       "   skewness_level_age  \n",
       "0            1.113176  \n",
       "1            0.884697  \n",
       "2            0.870938  "
      ]
     },
     "execution_count": 96,
     "metadata": {},
     "output_type": "execute_result"
    }
   ],
   "source": [
    "settlement_size = summary_stats(column=num_list[0],group=cats[4])\n",
    "settlement_size"
   ]
  },
  {
   "cell_type": "code",
   "execution_count": 101,
   "metadata": {},
   "outputs": [
    {
     "data": {
      "text/html": [
       "<div>\n",
       "<style scoped>\n",
       "    .dataframe tbody tr th:only-of-type {\n",
       "        vertical-align: middle;\n",
       "    }\n",
       "\n",
       "    .dataframe tbody tr th {\n",
       "        vertical-align: top;\n",
       "    }\n",
       "\n",
       "    .dataframe thead th {\n",
       "        text-align: right;\n",
       "    }\n",
       "</style>\n",
       "<table border=\"1\" class=\"dataframe\">\n",
       "  <thead>\n",
       "    <tr style=\"text-align: right;\">\n",
       "      <th></th>\n",
       "      <th>settlement_size</th>\n",
       "      <th>total_income</th>\n",
       "      <th>average_income</th>\n",
       "      <th>deviation_income</th>\n",
       "      <th>range_income</th>\n",
       "      <th>skewness_level_income</th>\n",
       "    </tr>\n",
       "  </thead>\n",
       "  <tbody>\n",
       "    <tr>\n",
       "      <th>0</th>\n",
       "      <td>0</td>\n",
       "      <td>99950108</td>\n",
       "      <td>101061.787664</td>\n",
       "      <td>26505.919898</td>\n",
       "      <td>183487</td>\n",
       "      <td>0.547405</td>\n",
       "    </tr>\n",
       "    <tr>\n",
       "      <th>1</th>\n",
       "      <td>1</td>\n",
       "      <td>74762107</td>\n",
       "      <td>137430.343750</td>\n",
       "      <td>34579.105619</td>\n",
       "      <td>226093</td>\n",
       "      <td>1.473514</td>\n",
       "    </tr>\n",
       "    <tr>\n",
       "      <th>2</th>\n",
       "      <td>2</td>\n",
       "      <td>67196623</td>\n",
       "      <td>143889.985011</td>\n",
       "      <td>40781.263863</td>\n",
       "      <td>239877</td>\n",
       "      <td>1.426990</td>\n",
       "    </tr>\n",
       "  </tbody>\n",
       "</table>\n",
       "</div>"
      ],
      "text/plain": [
       "  settlement_size  total_income  average_income  deviation_income  \\\n",
       "0               0      99950108   101061.787664      26505.919898   \n",
       "1               1      74762107   137430.343750      34579.105619   \n",
       "2               2      67196623   143889.985011      40781.263863   \n",
       "\n",
       "   range_income  skewness_level_income  \n",
       "0        183487               0.547405  \n",
       "1        226093               1.473514  \n",
       "2        239877               1.426990  "
      ]
     },
     "execution_count": 101,
     "metadata": {},
     "output_type": "execute_result"
    }
   ],
   "source": [
    "settlement_size = summary_stats(column=num_list[1],group=cats[4])\n",
    "settlement_size"
   ]
  },
  {
   "cell_type": "markdown",
   "metadata": {},
   "source": [
    "**Observations**"
   ]
  }
 ],
 "metadata": {
  "kernelspec": {
   "display_name": "Python 3 (ipykernel)",
   "language": "python",
   "name": "python3"
  },
  "language_info": {
   "codemirror_mode": {
    "name": "ipython",
    "version": 3
   },
   "file_extension": ".py",
   "mimetype": "text/x-python",
   "name": "python",
   "nbconvert_exporter": "python",
   "pygments_lexer": "ipython3",
   "version": "3.8.13"
  },
  "vscode": {
   "interpreter": {
    "hash": "c8e3cf4d6bb4a0ac7877b378c8a3c902fd94777f6924c9107da577688ed2ac1b"
   }
  }
 },
 "nbformat": 4,
 "nbformat_minor": 2
}
